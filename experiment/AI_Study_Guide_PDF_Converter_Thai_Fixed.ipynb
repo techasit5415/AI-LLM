{
 "cells": [
  {
   "cell_type": "markdown",
   "metadata": {},
   "source": [
    "# 🤖 AI Study Guide PDF Converter - Thai Font Fixed\n",
    "\n",
    "**โปรแกรมแปลง Study Guide เป็น PDF พร้อมรองรับภาษาไทย**\n",
    "\n",
    "- ✅ แก้ไขปัญหาฟอนต์ภาษาไทยที่เป็นสี่เหลี่ยมเหลือง\n",
    "- 🔤 ใช้ฟอนต์ Noto Sans Thai ที่รองรับภาษาไทยเต็มรูปแบบ\n",
    "- 📚 เหมาะสำหรับ Study Guide วิชา AI\n",
    "- 👤 จัดทำโดย: techasit5415"
   ]
  },
  {
   "cell_type": "code",
   "execution_count": null,
   "metadata": {},
   "outputs": [],
   "source": [
    "# ติดตั้ง packages ที่จำเป็น\n",
    "!pip install -q pypandoc ipywidgets\n",
    "!apt-get update -qq\n",
    "!apt-get install -y -qq pandoc texlive-xetex fonts-noto fonts-noto-cjk fonts-thai-tlwg\n",
    "!fc-cache -fv"
   ]
  },
  {
   "cell_type": "code",
   "execution_count": null,
   "metadata": {},
   "outputs": [],
   "source": [
    "# Import AI Study Guide PDF Converter\n",
    "import os\n",
    "import pypandoc\n",
    "import time\n",
    "from datetime import datetime, UTC\n",
    "from google.colab import files\n",
    "from IPython.display import display, HTML, clear_output\n",
    "import ipywidgets as widgets\n",
    "from ipywidgets import Button, VBox, HBox, Output, Textarea, HTML as HTMLWidget, IntProgress, Label"
   ]
  },
  {
   "cell_type": "code",
   "execution_count": null,
   "metadata": {},
   "outputs": [],
   "source": [
    "# นำเข้า AI Study Guide PDF Converter Class\n",
    "exec(open('/content/ai_study_guide_pdf_converter.py').read())"
   ]
  },
  {
   "cell_type": "code",
   "execution_count": null,
   "metadata": {},
   "outputs": [],
   "source": [
    "# หรือคัดลอกโค้ดมาใส่ตรงนี้\n",
    "# วาง code จากไฟล์ ai_study_guide_pdf_converter.py ที่นี่"
   ]
  },
  {
   "cell_type": "code",
   "execution_count": null,
   "metadata": {},
   "outputs": [],
   "source": [
    "# เริ่มใช้งาน AI Study Guide PDF Converter\n",
    "print(\"🤖 AI Study Guide PDF Converter (Thai Font Fixed)\")\n",
    "print(\"👤 ผู้ใช้: techasit5415\")\n",
    "print(f\"🕐 เวลาปัจจุบัน: {datetime.now(UTC).strftime('%Y-%m-%d %H:%M:%S')} UTC\")\n",
    "print(\"🔤 ใช้ฟอนต์: Noto Sans Thai (รองรับภาษาไทยเต็มรูปแบบ)\")\n",
    "print(\"📚 รายวิชา: 05506210 Artificial Intelligence\")\n",
    "print(\"✅ แก้ไขปัญหาฟอนต์ภาษาไทยแล้ว - ไม่มีสี่เหลี่ยมเหลืองอีกต่อไป!\")\n",
    "print(\"=\" * 70)\n",
    "\n",
    "# สร้างและแสดง converter\n",
    "converter = AIStudyGuidePDFConverter()\n",
    "converter.show()"
   ]
  },
  {
   "cell_type": "markdown",
   "metadata": {},
   "source": [
    "## 📋 วิธีการใช้งาน\n",
    "\n",
    "1. **🔧 ติดตั้ง**: รัน cell ติดตั้งฟอนต์ด้านบน\n",
    "2. **📁 อัปโหลด**: คลิก \"เลือกไฟล์ Study Guide\" และเลือกไฟล์ .txt หรือ .md\n",
    "3. **✏️ แก้ไข**: แก้ไขเนื้อหาในช่องข้อความได้\n",
    "4. **🔄 แปลง**: คลิก \"แปลงเป็น PDF (Thai)\" \n",
    "5. **⬇️ ดาวน์โหลด**: คลิก \"ดาวน์โหลด PDF\" เมื่อแปลงเสร็จ\n",
    "\n",
    "## ✅ คุณสมบัติที่แก้ไขแล้ว\n",
    "\n",
    "- 🔤 **ฟอนต์ภาษาไทย**: ใช้ Noto Sans Thai แทน DejaVu Sans\n",
    "- 🚫 **ไม่มีสี่เหลี่ยม**: แก้ไขปัญหาตัวอักษรไทยเป็นสี่เหลี่ยมเหลือง\n",
    "- 📚 **รองรับ AI Content**: วิเคราะห์เนื้อหา AI keywords\n",
    "- 🎨 **ASCII Art**: รองรับตาราง diagram\n",
    "- 📊 **สถิติเนื้อหา**: แสดงเปอร์เซ็นต์ภาษาไทย\n",
    "\n",
    "## 🔧 การแก้ไขปัญหา\n",
    "\n",
    "หากยังมีปัญหาฟอนต์:\n",
    "\n",
    "```bash\n",
    "# ติดตั้งฟอนต์เพิ่มเติม\n",
    "!apt-get install -y fonts-tlwg-loma fonts-tlwg-mono\n",
    "!fc-cache -fv\n",
    "```"
   ]
  }
 ],
 "metadata": {
  "kernelspec": {
   "display_name": "Python 3",
   "language": "python",
   "name": "python3"
  },
  "language_info": {
   "codemirror_mode": {
    "name": "ipython",
    "version": 3
   },
   "file_extension": ".py",
   "mimetype": "text/x-python",
   "name": "python",
   "nbconvert_exporter": "python",
   "pygments_lexer": "ipython3",
   "version": "3.8.10"
  }
 },
 "nbformat": 4,
 "nbformat_minor": 4
}